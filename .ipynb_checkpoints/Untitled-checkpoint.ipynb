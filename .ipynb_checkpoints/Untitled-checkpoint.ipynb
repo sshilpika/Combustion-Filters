{
 "cells": [
  {
   "cell_type": "code",
   "execution_count": null,
   "metadata": {
    "collapsed": true
   },
   "outputs": [],
   "source": [
    "a = np.zeros((4))\n",
    "\n",
    "def funct(x,y):\n",
    "    return 10*x+y\n",
    "\n",
    "b = np.fromfunction(funct,(5,4), dtype=int)\n",
    "print b\n",
    "b[:,1:2]\n",
    "\n",
    "np.append([[1,2,3],[4,5,6]],[[1,1,1]],axis=0)\n",
    "x = np.zeros((1,3,2),dtype=int)\n",
    "print x\n",
    "y = np.array([[[1,2],[2,3],[3,4]],[[4,5],[5,6],[6,7]]])\n",
    "print y.shape\n",
    "print 'this is y'\n",
    "print y\n",
    "y = np.append(x,y,axis=0)\n",
    "print 'xy'\n",
    "print x\n",
    "print 'y'\n",
    "print y\n",
    "s = y.sum(axis=(1,2),keepdims=True)#.sum(axis=2,keepdims=True)\n",
    "print s.shape\n",
    "#s.argmin()"
   ]
  },
  {
   "cell_type": "code",
   "execution_count": null,
   "metadata": {
    "collapsed": true
   },
   "outputs": [],
   "source": [
    "x= np.arange(10)\n",
    "y = x\n",
    "b = np.arange(10)\n",
    "print(x)\n",
    "print(y)\n",
    "print(b)\n",
    "x[0] = 100\n",
    "#b[0] = 10\n",
    "print(np.array_equal(y,b))\n",
    "if np.not_equal(y,b).any():\n",
    "    print('in')\n",
    "    b=y\n",
    "print(x)\n",
    "print(y)\n",
    "print(b)"
   ]
  },
  {
   "cell_type": "code",
   "execution_count": null,
   "metadata": {
    "collapsed": true
   },
   "outputs": [],
   "source": [
    "a = np.asarray([10,10,10])\n",
    "b = np.asarray([20,20,20])\n",
    "c=5\n",
    "d = np.maximum(a,b)\n",
    "print(a)\n",
    "print(b)\n",
    "print(c)\n",
    "print(d)"
   ]
  },
  {
   "cell_type": "code",
   "execution_count": null,
   "metadata": {
    "collapsed": true
   },
   "outputs": [],
   "source": [
    "from numpy import array\n",
    "x = np.arange(6).reshape(3,2)\n",
    "print(type(x))\n",
    "print(x)\n",
    "\n",
    "y = np.matrix('18 5;13 6; 19 50')\n",
    "plt.imshow(y)\n",
    "plt.show()\n",
    "\n",
    "z = np.matrix('8 5;3 6; 9 5')\n",
    "plt.imshow(z)\n",
    "plt.show()\n",
    "\n",
    "a = [x,y,z]\n",
    "print(a[0].shape)\n",
    "b = array(a)\n",
    "r = b.max(axis=0)\n",
    "print('np.max',r)\n",
    "plt.imshow(r)\n",
    "plt.show()\n",
    "\n",
    "#print('only max',max(x,y,z))"
   ]
  },
  {
   "cell_type": "code",
   "execution_count": null,
   "metadata": {
    "collapsed": true
   },
   "outputs": [],
   "source": [
    "print('This is the max and min of the filters')\n",
    "print(filters[0].shape)\n",
    "\n",
    "v = [filters[0], filters[3]]\n",
    "print(type(v),'vtype')\n",
    "f_array = array(v)\n",
    "print(type(f_array),'f_array type')\n",
    "print(f_array.shape)\n",
    "\n",
    "#print('this is filter 0',filters[0])\n",
    "#print('this is filter 1',filters[1])\n",
    "\n",
    "plt.imshow(filters[1])\n",
    "plt.show()\n",
    "plt.imshow(filters[3])\n",
    "plt.show()\n",
    "fmax = np.amax(f_array, axis=0)\n",
    "\n",
    "#np.maximum(filters[0],filters[3]) #f_array.max(axis=0)\n",
    "\n",
    "print('this is filter 0',filters[0][0][0])\n",
    "print('this is filter 1',filters[3][0][0])\n",
    "print('this is fmax',fmax[0][0])\n",
    "\n",
    "#print(np.equal(fmax,filters[3]))\n",
    "#fmin = f_array.min(axis=0)\n",
    "plt.imshow(fmax)\n",
    "plt.show()\n",
    "#plt.imshow(fmin)\n",
    "\n",
    "\n"
   ]
  },
  {
   "cell_type": "code",
   "execution_count": null,
   "metadata": {
    "collapsed": true
   },
   "outputs": [],
   "source": [
    "fig, axes = plt.subplots(nrows=len(filters)+1, ncols=5,figsize=(30, 30))\n",
    "\n",
    "fig.suptitle('Image responses for Gabor filter kernels', fontsize=12)\n",
    "axes[0][0].axis('off')\n",
    "\n",
    "# Plot original images\n",
    "for label, img, ax in zip(image_names, images, axes[0][1:]):\n",
    "    ax.imshow(img)\n",
    "    ax.set_title(label, fontsize=12)\n",
    "    ax.axis('off')\n",
    "\n",
    "for i ,f_imgR in enumerate(f_imgs): \n",
    "    for j , f_img  in enumerate(f_imgR):\n",
    "        ax = axes[i+1][j]\n",
    "        ax.imshow(f_img)\n",
    "        ax.axis('off')\n",
    "    \n",
    "plt.show()"
   ]
  },
  {
   "cell_type": "code",
   "execution_count": null,
   "metadata": {
    "collapsed": true
   },
   "outputs": [],
   "source": [
    "###Accumulated results for filter\n",
    "#ax.set_ylabel(label, fontsize=12)\n",
    "    #ax.set_xticks([])\n",
    "    #ax.set_yticks([])\n",
    "    \n",
    "# Plot Gabor responses with the contrast normalized for each filter\n",
    "#for  result , ax_row in zip( results , axes[2][0:]):\n",
    "#    ax = ax_row\n",
    "    #print(ax_row)\n",
    "#    ax.imshow(np.real(result[1]))\n",
    "    #ax.axis('off')"
   ]
  }
 ],
 "metadata": {
  "kernelspec": {
   "display_name": "pySpark (Spark 1.4.0)",
   "language": "python",
   "name": "pyspark"
  },
  "language_info": {
   "codemirror_mode": {
    "name": "ipython",
    "version": 2
   },
   "file_extension": ".py",
   "mimetype": "text/x-python",
   "name": "python",
   "nbconvert_exporter": "python",
   "pygments_lexer": "ipython2",
   "version": "2.7.12"
  }
 },
 "nbformat": 4,
 "nbformat_minor": 1
}
