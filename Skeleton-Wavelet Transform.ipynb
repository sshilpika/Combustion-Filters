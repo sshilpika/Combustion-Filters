{
 "cells": [
  {
   "cell_type": "markdown",
   "metadata": {},
   "source": [
    "#### Skeleton of a shape is the locus of the symmetric or symmetric axes of the local symmetries of the shape. Different local symmetry analyses will result in different symmetric points and hence result in different skeletons.\n",
    "\n",
    "#### Methods of local symmetry analysis\n",
    "    #### 1. Blum's Symmetric Axis Transform (SAT)\n",
    "    #### 2. Brady's Smoothed Local Symmetry (SLS)\n",
    "    #### 3. Leyton's Process-Inferring Symmetry Analysis (PISA)"
   ]
  },
  {
   "cell_type": "code",
   "execution_count": null,
   "metadata": {
    "collapsed": true
   },
   "outputs": [],
   "source": []
  }
 ],
 "metadata": {
  "kernelspec": {
   "display_name": "Python [conda root]",
   "language": "python",
   "name": "conda-root-py"
  },
  "language_info": {
   "codemirror_mode": {
    "name": "ipython",
    "version": 2
   },
   "file_extension": ".py",
   "mimetype": "text/x-python",
   "name": "python",
   "nbconvert_exporter": "python",
   "pygments_lexer": "ipython2",
   "version": "2.7.12"
  }
 },
 "nbformat": 4,
 "nbformat_minor": 1
}
